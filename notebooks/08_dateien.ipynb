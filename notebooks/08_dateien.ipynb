{
 "cells": [
  {
   "cell_type": "markdown",
   "metadata": {
    "collapsed": true,
    "pycharm": {
     "name": "#%% md\n"
    }
   },
   "source": [
    "# Dateien lesen und schreiben\n",
    "## Schreiben"
   ]
  },
  {
   "cell_type": "code",
   "execution_count": 2,
   "outputs": [],
   "source": [
    "datei = r\"../resources/textdatei.txt\"\n",
    "# Das kleine r vor dem Pfad bedeutet,\n",
    "# dass die Backslashes keine Sonderbedeutung haben\n",
    "# wie z.B. \\n -> Zeilenumbruch ; \\t -> Tabulator\n",
    "\n",
    "with open(datei, \"w\") as w:\n",
    "    # Das kleine w bedeutet \"write\"\n",
    "    # Die neue Datei wird automatisch angelegt\n",
    "    w.write(\"blabla\")\n",
    "    w.write(\"\\n\") # Zeilenumbruch\n",
    "    w.write(\"gugus\")"
   ],
   "metadata": {
    "collapsed": false,
    "pycharm": {
     "name": "#%%\n",
     "is_executing": false
    }
   }
  },
  {
   "cell_type": "markdown",
   "source": [
    "## Lesen"
   ],
   "metadata": {
    "collapsed": false
   }
  },
  {
   "cell_type": "code",
   "execution_count": 3,
   "outputs": [
    {
     "name": "stdout",
     "text": [
      "blabla\ngugus\n"
     ],
     "output_type": "stream"
    }
   ],
   "source": [
    "with open(datei, \"r\") as r:\n",
    "    # Hier bedeutet das kleine r \"read\"\n",
    "    inhalt = r.readlines()\n",
    "\n",
    "for zeile in inhalt:\n",
    "    print(zeile.strip())  # strip => Zeilenumbruch entfernen\n"
   ],
   "metadata": {
    "collapsed": false,
    "pycharm": {
     "name": "#%%\n",
     "is_executing": false
    }
   }
  }
 ],
 "metadata": {
  "language_info": {
   "codemirror_mode": {
    "name": "ipython",
    "version": 2
   },
   "file_extension": ".py",
   "mimetype": "text/x-python",
   "name": "python",
   "nbconvert_exporter": "python",
   "pygments_lexer": "ipython2",
   "version": "2.7.6"
  },
  "kernelspec": {
   "name": "python3",
   "language": "python",
   "display_name": "Python 3"
  },
  "pycharm": {
   "stem_cell": {
    "cell_type": "raw",
    "source": [],
    "metadata": {
     "collapsed": false
    }
   }
  }
 },
 "nbformat": 4,
 "nbformat_minor": 0
}