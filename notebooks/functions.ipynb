{
 "cells": [
  {
   "cell_type": "markdown",
   "source": [
    "# Funktionen\n",
    "\n",
    "## Built-in Funktionen"
   ],
   "metadata": {
    "collapsed": false
   }
  },
  {
   "cell_type": "code",
   "execution_count": 1,
   "outputs": [
    {
     "name": "stdout",
     "text": [
      "10\n4\n[1, 2, 3, 4]\n"
     ],
     "output_type": "stream"
    }
   ],
   "source": [
    "liste = [1, 4, 3, 2]\n",
    "print(sum(liste))\n",
    "print(len(liste))\n",
    "print(sorted(liste))"
   ],
   "metadata": {
    "collapsed": false,
    "pycharm": {
     "name": "#%% \n",
     "is_executing": false
    }
   }
  },
  {
   "cell_type": "markdown",
   "source": [
    "## Eigene Funtionen"
   ],
   "metadata": {
    "collapsed": false
   }
  },
  {
   "cell_type": "code",
   "execution_count": 10,
   "outputs": [],
   "source": [
    "#   Funktionsname  Parameter\n",
    "#          |         |\n",
    "#          v         v\n",
    "def meine_funktion(zahl):\n",
    "    # Ich als Funktion kann die Quadratzahl berechnen\n",
    "    # Meistens kommt noch viel mehr Logik in eine Funktion\n",
    "    return zahl ** 2\n",
    "#       ^\n",
    "#       |\n",
    "#  Rückgabewert"
   ],
   "metadata": {
    "collapsed": false,
    "pycharm": {
     "name": "#%% \n",
     "is_executing": false
    }
   }
  },
  {
   "cell_type": "markdown",
   "source": [
    "## Funktion aufrufen\n",
    "WICHTIG: Funktionen müssen immer definiert werden, _bevor_ sie aufgerufen werden"
   ],
   "metadata": {
    "collapsed": false
   }
  },
  {
   "cell_type": "code",
   "execution_count": 11,
   "outputs": [
    {
     "name": "stdout",
     "text": [
      "25\n"
     ],
     "output_type": "stream"
    }
   ],
   "source": [
    "print(meine_funktion(5))\n",
    "\n"
   ],
   "metadata": {
    "collapsed": false,
    "pycharm": {
     "name": "#%% \n",
     "is_executing": false
    }
   }
  }
 ],
 "metadata": {
  "language_info": {
   "codemirror_mode": {
    "name": "ipython",
    "version": 2
   },
   "file_extension": ".py",
   "mimetype": "text/x-python",
   "name": "python",
   "nbconvert_exporter": "python",
   "pygments_lexer": "ipython2",
   "version": "2.7.6"
  },
  "kernelspec": {
   "name": "python3",
   "language": "python",
   "display_name": "Python 3"
  },
  "pycharm": {
   "stem_cell": {
    "cell_type": "raw",
    "source": [],
    "metadata": {
     "collapsed": false
    }
   }
  }
 },
 "nbformat": 4,
 "nbformat_minor": 0
}