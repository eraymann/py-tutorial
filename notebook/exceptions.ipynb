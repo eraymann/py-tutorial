{
 "cells": [
  {
   "cell_type": "markdown",
   "source": [
    "# Fehlerbehandlung\n",
    "Obwohl der Code fehlerfrei programmiert ist, kann es beim Ausführen zu Fehlern führen.\n",
    "<br>\n",
    "Damit das Programm dann nicht gleich abstürzt, gibt es den Mechanismus des Exception Handlings."
   ],
   "metadata": {
    "collapsed": false
   }
  },
  {
   "cell_type": "code",
   "execution_count": 2,
   "outputs": [
    {
     "name": "stdout",
     "text": [
      "Division durch null ist verboten!\ndivision by zero\nIch erscheine immer, ob try erfolgreich war oder nicht\n"
     ],
     "output_type": "stream"
    }
   ],
   "source": [
    "try:\n",
    "    print(1 / 0)\n",
    "except Exception as e:\n",
    "    print(\"Division durch null ist verboten!\")\n",
    "    print(e)  # Fehlermeldung des Systems\n",
    "finally:\n",
    "    print(\"Ich erscheine immer, ob try erfolgreich war oder nicht\")"
   ],
   "metadata": {
    "collapsed": false,
    "pycharm": {
     "name": "#%% \n",
     "is_executing": false
    }
   }
  }
 ],
 "metadata": {
  "language_info": {
   "codemirror_mode": {
    "name": "ipython",
    "version": 2
   },
   "file_extension": ".py",
   "mimetype": "text/x-python",
   "name": "python",
   "nbconvert_exporter": "python",
   "pygments_lexer": "ipython2",
   "version": "2.7.6"
  },
  "kernelspec": {
   "name": "python3",
   "language": "python",
   "display_name": "Python 3"
  },
  "pycharm": {
   "stem_cell": {
    "cell_type": "raw",
    "source": [],
    "metadata": {
     "collapsed": false
    }
   }
  }
 },
 "nbformat": 4,
 "nbformat_minor": 0
}