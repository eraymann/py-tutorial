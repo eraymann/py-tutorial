{
 "cells": [
  {
   "cell_type": "markdown",
   "metadata": {
    "collapsed": true,
    "pycharm": {
     "name": "#%% md\n"
    }
   },
   "source": [
    "# Zeit und Datum\n",
    "## Module"
   ]
  },
  {
   "cell_type": "code",
   "execution_count": 36,
   "outputs": [],
   "source": [
    "import time\n",
    "\n",
    "# Weitere mögliche Module:\n",
    "# import datetime\n",
    "# import calendar"
   ],
   "metadata": {
    "collapsed": false,
    "pycharm": {
     "name": "#%%\n",
     "is_executing": false
    }
   }
  },
  {
   "cell_type": "markdown",
   "source": [
    "## Arten\n",
    "Zeit kann auf 3 verschiedene Arten in Python verarbeitet werden\n",
    "1. menschenlesbar -> z.B. 02.02.2018\n",
    "2. Sekunden seit 01.01.1970 (since the Epoch) -> einfach zu rechnen\n",
    "3. Zeittupel aus 9 Elementen (YYYY, MM, DD, .....) -> wenn z.B. nur der Monat interessiert\n",
    "\n",
    "## Beispiele\n",
    "\n",
    "Aktuelle Zeit in Sekunden seit _the Epoch_"
   ],
   "metadata": {
    "collapsed": false,
    "pycharm": {
     "name": "#%% md\n"
    }
   }
  },
  {
   "cell_type": "code",
   "execution_count": 37,
   "outputs": [
    {
     "name": "stdout",
     "text": [
      "1565170647.4706693\n"
     ],
     "output_type": "stream"
    }
   ],
   "source": [
    "print(time.time())"
   ],
   "metadata": {
    "collapsed": false,
    "pycharm": {
     "name": "#%%\n",
     "is_executing": false
    }
   }
  },
  {
   "cell_type": "markdown",
   "source": [
    "Aktuelle Zeit als Zeit-Tupel, und einzelne Elemente daraus"
   ],
   "metadata": {
    "collapsed": false,
    "pycharm": {
     "name": "#%% md\n"
    }
   }
  },
  {
   "cell_type": "code",
   "execution_count": 38,
   "outputs": [
    {
     "name": "stdout",
     "text": [
      "time.struct_time(tm_year=2019, tm_mon=8, tm_mday=7, tm_hour=11, tm_min=37, tm_sec=27, tm_wday=2, tm_yday=219, tm_isdst=1)\n8\n7\n"
     ],
     "output_type": "stream"
    }
   ],
   "source": [
    "print(time.localtime())\n",
    "print(time.localtime().tm_mon) # Monat\n",
    "print(time.localtime().tm_mday) # Tag"
   ],
   "metadata": {
    "collapsed": false,
    "pycharm": {
     "name": "#%%\n",
     "is_executing": false
    }
   }
  },
  {
   "cell_type": "markdown",
   "source": [
    "Umwandlung von Sekunden seit _the Epoch_ in Zeit-Tupel "
   ],
   "metadata": {
    "collapsed": false,
    "pycharm": {
     "name": "#%% md\n"
    }
   }
  },
  {
   "cell_type": "code",
   "execution_count": 39,
   "outputs": [
    {
     "name": "stdout",
     "text": [
      "time.struct_time(tm_year=2019, tm_mon=8, tm_mday=7, tm_hour=11, tm_min=3, tm_sec=43, tm_wday=2, tm_yday=219, tm_isdst=1)\n"
     ],
     "output_type": "stream"
    }
   ],
   "source": [
    "print(time.localtime(1565168623))"
   ],
   "metadata": {
    "collapsed": false,
    "pycharm": {
     "name": "#%%\n",
     "is_executing": false
    }
   }
  },
  {
   "cell_type": "markdown",
   "source": [
    "Umwandlung von Text in Zeit-Tupel"
   ],
   "metadata": {
    "collapsed": false,
    "pycharm": {
     "name": "#%% md\n"
    }
   }
  },
  {
   "cell_type": "code",
   "execution_count": 40,
   "outputs": [
    {
     "name": "stdout",
     "text": [
      "time.struct_time(tm_year=2019, tm_mon=8, tm_mday=7, tm_hour=0, tm_min=0, tm_sec=0, tm_wday=2, tm_yday=219, tm_isdst=-1)\n"
     ],
     "output_type": "stream"
    }
   ],
   "source": [
    "print(time.strptime(\"07.08.2019\", \"%d.%m.%Y\"))"
   ],
   "metadata": {
    "collapsed": false,
    "pycharm": {
     "name": "#%%\n",
     "is_executing": false
    }
   }
  },
  {
   "cell_type": "markdown",
   "source": [
    "Umwandlung eines Zeit-Tupels in Sekunden"
   ],
   "metadata": {
    "collapsed": false,
    "pycharm": {
     "name": "#%% md\n"
    }
   }
  },
  {
   "cell_type": "code",
   "execution_count": 41,
   "outputs": [
    {
     "name": "stdout",
     "text": [
      "1461880800.0\n"
     ],
     "output_type": "stream"
    }
   ],
   "source": [
    "print(time.mktime((2016, 4, 29, 0, 0, 0, 4, 120, -1)))\n"
   ],
   "metadata": {
    "collapsed": false,
    "pycharm": {
     "name": "#%%\n",
     "is_executing": false
    }
   }
  },
  {
   "cell_type": "markdown",
   "source": [
    "Umwandlung von Text in Sekunden seit _the Epoch_"
   ],
   "metadata": {
    "collapsed": false,
    "pycharm": {
     "name": "#%% md\n"
    }
   }
  },
  {
   "cell_type": "code",
   "execution_count": 42,
   "outputs": [
    {
     "name": "stdout",
     "text": [
      "443660400.0\n"
     ],
     "output_type": "stream"
    }
   ],
   "source": [
    "print(time.mktime(time.strptime(\"23.01.1984\", \"%d.%m.%Y\")))"
   ],
   "metadata": {
    "collapsed": false,
    "pycharm": {
     "name": "#%%\n",
     "is_executing": false
    }
   }
  }
 ],
 "metadata": {
  "language_info": {
   "codemirror_mode": {
    "name": "ipython",
    "version": 2
   },
   "file_extension": ".py",
   "mimetype": "text/x-python",
   "name": "python",
   "nbconvert_exporter": "python",
   "pygments_lexer": "ipython2",
   "version": "2.7.6"
  },
  "kernelspec": {
   "name": "python3",
   "language": "python",
   "display_name": "Python 3"
  },
  "pycharm": {
   "stem_cell": {
    "cell_type": "raw",
    "source": [],
    "metadata": {
     "collapsed": false
    }
   }
  }
 },
 "nbformat": 4,
 "nbformat_minor": 0
}