{
 "cells": [
  {
   "cell_type": "markdown",
   "metadata": {
    "collapsed": true,
    "pycharm": {
     "name": "#%% md\n"
    }
   },
   "source": [
    "# Zeit und Datum\n",
    "## Module"
   ]
  },
  {
   "cell_type": "code",
   "execution_count": 29,
   "outputs": [],
   "source": [
    "import time\n",
    "\n",
    "# Weitere mögliche Module:\n",
    "# import datetime\n",
    "# import calendar"
   ],
   "metadata": {
    "collapsed": false,
    "pycharm": {
     "name": "#%%\n",
     "is_executing": false
    }
   }
  },
  {
   "cell_type": "markdown",
   "source": [
    "## Arten\n",
    "Zeit kann auf 3 verschiedene Arten in Python verarbeitet werden\n",
    "1. menschenlesbar -> z.B. 02.02.2018\n",
    "2. Sekunden seit 01.01.1970 (since the Epoch) -> einfach zu rechnen\n",
    "3. Zeittupel aus 9 Elementen (YYYY, MM, DD, .....) -> wenn z.B. nur der Monat interessiert\n",
    "\n",
    "## Beispiele\n",
    "\n",
    "Aktuelle Zeit in Sekunden seit _the Epoch_"
   ],
   "metadata": {
    "collapsed": false,
    "pycharm": {
     "name": "#%% md\n"
    }
   }
  },
  {
   "cell_type": "code",
   "execution_count": 30,
   "outputs": [
    {
     "name": "stdout",
     "text": [
      "1565169089.253477\n"
     ],
     "output_type": "stream"
    }
   ],
   "source": [
    "print(time.time())"
   ],
   "metadata": {
    "collapsed": false,
    "pycharm": {
     "name": "#%%\n",
     "is_executing": false
    }
   }
  },
  {
   "cell_type": "markdown",
   "source": [
    "Aktuelle Zeit als Zeit-Tupel, und einzelne Elemente daraus"
   ],
   "metadata": {
    "collapsed": false,
    "pycharm": {
     "name": "#%% md\n"
    }
   }
  },
  {
   "cell_type": "code",
   "execution_count": 31,
   "outputs": [
    {
     "name": "stdout",
     "text": [
      "time.struct_time(tm_year=2019, tm_mon=8, tm_mday=7, tm_hour=11, tm_min=11, tm_sec=29, tm_wday=2, tm_yday=219, tm_isdst=1)\n8\n7\n"
     ],
     "output_type": "stream"
    }
   ],
   "source": [
    "print(time.localtime())\n",
    "print(time.localtime().tm_mon) # Monat\n",
    "print(time.localtime().tm_mday) # Tag"
   ],
   "metadata": {
    "collapsed": false,
    "pycharm": {
     "name": "#%%\n",
     "is_executing": false
    }
   }
  },
  {
   "cell_type": "markdown",
   "source": [
    "Umwandlung von Sekunden seit _the Epoch_ in Zeit-Tupel "
   ],
   "metadata": {
    "collapsed": false,
    "pycharm": {
     "name": "#%% md\n"
    }
   }
  },
  {
   "cell_type": "code",
   "execution_count": 32,
   "outputs": [
    {
     "name": "stdout",
     "text": [
      "time.struct_time(tm_year=2019, tm_mon=8, tm_mday=7, tm_hour=11, tm_min=3, tm_sec=43, tm_wday=2, tm_yday=219, tm_isdst=1)\n"
     ],
     "output_type": "stream"
    }
   ],
   "source": [
    "print(time.localtime(1565168623))"
   ],
   "metadata": {
    "collapsed": false,
    "pycharm": {
     "name": "#%%\n",
     "is_executing": false
    }
   }
  },
  {
   "cell_type": "markdown",
   "source": [
    "Umwandlung von Text in Zeit-Tupel"
   ],
   "metadata": {
    "collapsed": false,
    "pycharm": {
     "name": "#%% md\n"
    }
   }
  },
  {
   "cell_type": "code",
   "execution_count": 33,
   "outputs": [
    {
     "name": "stdout",
     "text": [
      "time.struct_time(tm_year=2019, tm_mon=8, tm_mday=7, tm_hour=0, tm_min=0, tm_sec=0, tm_wday=2, tm_yday=219, tm_isdst=-1)\n"
     ],
     "output_type": "stream"
    }
   ],
   "source": [
    "print(time.strptime(\"07.08.2019\", \"%d.%m.%Y\"))"
   ],
   "metadata": {
    "collapsed": false,
    "pycharm": {
     "name": "#%%\n",
     "is_executing": false
    }
   }
  },
  {
   "cell_type": "markdown",
   "source": [
    "Umwandlung eines Zeit-Tupels in Sekunden"
   ],
   "metadata": {
    "collapsed": false,
    "pycharm": {
     "name": "#%% md\n"
    }
   }
  },
  {
   "cell_type": "code",
   "execution_count": 34,
   "outputs": [
    {
     "name": "stdout",
     "text": [
      "1461880800.0\n"
     ],
     "output_type": "stream"
    }
   ],
   "source": [
    "print(time.mktime((2016, 4, 29, 0, 0, 0, 4, 120, -1)))\n"
   ],
   "metadata": {
    "collapsed": false,
    "pycharm": {
     "name": "#%%\n",
     "is_executing": false
    }
   }
  },
  {
   "cell_type": "markdown",
   "source": [
    "Umwandlung von Text in Sekunden seit _the Epoch_"
   ],
   "metadata": {
    "collapsed": false,
    "pycharm": {
     "name": "#%% md\n"
    }
   }
  },
  {
   "cell_type": "code",
   "execution_count": 35,
   "outputs": [
    {
     "name": "stdout",
     "text": [
      "443660400.0\n"
     ],
     "output_type": "stream"
    }
   ],
   "source": [
    "print(time.mktime(time.strptime(\"23.01.1984\", \"%d.%m.%Y\")))"
   ],
   "metadata": {
    "collapsed": false,
    "pycharm": {
     "name": "#%%\n",
     "is_executing": false
    }
   }
  }
 ],
 "metadata": {
  "language_info": {
   "codemirror_mode": {
    "name": "ipython",
    "version": 2
   },
   "file_extension": ".py",
   "mimetype": "text/x-python",
   "name": "python",
   "nbconvert_exporter": "python",
   "pygments_lexer": "ipython2",
   "version": "2.7.6"
  },
  "kernelspec": {
   "name": "python3",
   "language": "python",
   "display_name": "Python 3"
  },
  "pycharm": {
   "stem_cell": {
    "cell_type": "raw",
    "source": [],
    "metadata": {
     "collapsed": false
    }
   }
  }
 },
 "nbformat": 4,
 "nbformat_minor": 0
}