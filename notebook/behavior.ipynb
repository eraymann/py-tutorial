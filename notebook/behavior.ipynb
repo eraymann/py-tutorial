{
 "cells": [
  {
   "cell_type": "markdown",
   "metadata": {
    "collapsed": true,
    "pycharm": {
     "name": "#%% md\n"
    }
   },
   "source": [
    "# Kontrollstrukturen\n",
    "Mit Kontrollstrukturen wird der Programmablauf über Verzweigungen und Wiederholungen gesteuert.\n",
    "\n",
    "## Wiederholungen\n",
    "Mit Schleifen (Loops) werden einzelne Arbeitsschritte beliebig oft wiederholt.\n",
    "\n",
    "### `for`-Schleife\n",
    "`for`-Schleifen für eine _bekannte Anzahl Elemente_"
   ]
  },
  {
   "cell_type": "code",
   "execution_count": 1,
   "outputs": [
    {
     "name": "stdout",
     "text": [
      "2\n4\n6\n8\n10\n"
     ],
     "output_type": "stream"
    }
   ],
   "source": [
    "liste = [1, 2, 3, 4, 5]\n",
    "\n",
    "for element in liste:\n",
    "    # Anweisungsblock. Hier steht, was bei jedem Durchlauf passieren soll\n",
    "    print(element * 2)"
   ],
   "metadata": {
    "collapsed": false,
    "pycharm": {
     "name": "#%%\n",
     "is_executing": false
    }
   }
  },
  {
   "cell_type": "markdown",
   "source": [
    "### `while`-Schleife\n",
    "\n",
    "Die `while`-Schleife läuft, solange eine _Bedingung erfüllt_ ist.\n",
    "<br>\n",
    "ACHTUNG: Wenn kein Abbruchkriterium definiert, dann endlos!"
   ],
   "metadata": {
    "collapsed": false,
    "pycharm": {
     "name": "#%% md\n"
    }
   }
  },
  {
   "cell_type": "code",
   "execution_count": 2,
   "outputs": [
    {
     "name": "stdout",
     "text": [
      "0\n1\n2\n3\n4\n5\n6\n7\n8\n9\n"
     ],
     "output_type": "stream"
    }
   ],
   "source": [
    "counter = 0\n",
    "while counter < 10:\n",
    "    print(counter)\n",
    "    counter += 1  # Kurzschreibweise für 'counter = counter + 1'"
   ],
   "metadata": {
    "collapsed": false,
    "pycharm": {
     "name": "#%%\n",
     "is_executing": false
    }
   }
  },
  {
   "cell_type": "markdown",
   "source": [
    "## Verzweigungen\n",
    "Prüfen auf Bedingungen und je nach Ausgang den Programmablauf steuern"
   ],
   "metadata": {
    "collapsed": false
   }
  },
  {
   "cell_type": "code",
   "execution_count": 3,
   "outputs": [
    {
     "name": "stdout",
     "text": [
      "weder noch\n"
     ],
     "output_type": "stream"
    }
   ],
   "source": [
    "zahl = 50\n",
    "\n",
    "if zahl < 10:\n",
    "    # Grundbedingung\n",
    "    print(zahl, \"ist kleiner als 10\")\n",
    "\n",
    "elif zahl > 50:\n",
    "    # Falls 'if' nicht zutrifft, dann elif\n",
    "    # elif kann null bis beliebig oft vorkommen\n",
    "    print(zahl, \"ist grösser als 50\")\n",
    "\n",
    "else:\n",
    "    # Wenn bis hierhin keine Bedingung erfüllt, dann else\n",
    "    # else kann fehlen\n",
    "    print(\"weder noch\")"
   ],
   "metadata": {
    "collapsed": false,
    "pycharm": {
     "name": "#%%\n",
     "is_executing": false
    }
   }
  },
  {
   "cell_type": "markdown",
   "source": [
    "Bedingungen und Schleifen können kombiniert werden"
   ],
   "metadata": {
    "collapsed": false,
    "pycharm": {
     "name": "#%% md\n"
    }
   }
  },
  {
   "cell_type": "code",
   "execution_count": 4,
   "outputs": [
    {
     "name": "stdout",
     "text": [
      "0\n1\n2\n3\n4\n5\n6\n7\n8\n9\n10\n"
     ],
     "output_type": "stream"
    }
   ],
   "source": [
    "counter = 0\n",
    "while True:\n",
    "    if counter > 10:\n",
    "        break  # Unterbricht die Schleife sofort\n",
    "    print(counter)\n",
    "    counter += 1"
   ],
   "metadata": {
    "collapsed": false,
    "pycharm": {
     "name": "#%% \n",
     "is_executing": false
    }
   }
  }
 ],
 "metadata": {
  "language_info": {
   "codemirror_mode": {
    "name": "ipython",
    "version": 2
   },
   "file_extension": ".py",
   "mimetype": "text/x-python",
   "name": "python",
   "nbconvert_exporter": "python",
   "pygments_lexer": "ipython2",
   "version": "2.7.6"
  },
  "kernelspec": {
   "name": "python3",
   "language": "python",
   "display_name": "Python 3"
  },
  "pycharm": {
   "stem_cell": {
    "cell_type": "raw",
    "source": [],
    "metadata": {
     "collapsed": false
    }
   }
  }
 },
 "nbformat": 4,
 "nbformat_minor": 0
}