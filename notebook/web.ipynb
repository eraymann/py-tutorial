{
 "cells": [
  {
   "cell_type": "markdown",
   "source": [
    "# Webdienste nutzen\n",
    "\n",
    "## Module"
   ],
   "metadata": {
    "collapsed": false
   }
  },
  {
   "cell_type": "code",
   "source": [
    "import requests\n",
    "import json\n"
   ],
   "metadata": {
    "collapsed": false,
    "pycharm": {
     "name": "#%%\n",
     "is_executing": false
    }
   },
   "execution_count": 14,
   "outputs": []
  },
  {
   "cell_type": "markdown",
   "source": [
    "URL, die den Service anbietet, und die notwendigen Parameter.\n",
    "Siehe Doku des jeweiligen Services."
   ],
   "metadata": {
    "collapsed": false
   }
  },
  {
   "cell_type": "code",
   "execution_count": 22,
   "outputs": [],
   "source": [
    "url = \"https://api3.geo.admin.ch/rest/services/api/SearchServer\"\n",
    "text = \"Denzlerstrasse Bern\"\n",
    "params = {\"searchText\": text,\n",
    "          \"type\": \"locations\"}"
   ],
   "metadata": {
    "collapsed": false,
    "pycharm": {
     "name": "#%%\n",
     "is_executing": false
    }
   }
  },
  {
   "cell_type": "markdown",
   "source": [
    "Service aufrufen"
   ],
   "metadata": {
    "collapsed": false
   }
  },
  {
   "cell_type": "code",
   "execution_count": 23,
   "outputs": [
    {
     "name": "stdout",
     "text": [
      "<Response [200]>\n"
     ],
     "output_type": "stream"
    }
   ],
   "source": [
    "response = requests.get(url=url, params=params)\n",
    "print(response) # Antwortcode des Servers"
   ],
   "metadata": {
    "collapsed": false,
    "pycharm": {
     "name": "#%%\n",
     "is_executing": false
    }
   }
  },
  {
   "cell_type": "markdown",
   "source": [
    "Resultat formatiert darstellen"
   ],
   "metadata": {
    "collapsed": false
   }
  },
  {
   "cell_type": "code",
   "execution_count": 24,
   "outputs": [
    {
     "name": "stdout",
     "text": [
      "{\n  \"results\": [\n    {\n      \"id\": 1254483,\n      \"weight\": 3,\n      \"attrs\": {\n        \"origin\": \"address\",\n        \"geom_quadindex\": \"021300220011203303230\",\n        \"zoomlevel\": 10,\n        \"featureId\": \"1236303_0\",\n        \"lon\": 7.4485063552856445,\n        \"detail\": \"denzlerstrasse 6 3005 bern 351 bern ch be\",\n        \"rank\": 7,\n        \"geom_st_box2d\": \"BOX(600751.78898203 198582.104979507,600751.78898203 198582.104979507)\",\n        \"lat\": 46.93832778930664,\n        \"num\": 6,\n        \"y\": 600751.8125,\n        \"x\": 198582.109375,\n        \"label\": \"Denzlerstrasse 6 <b>3005 Bern</b>\"\n      }\n    },\n    {\n      \"id\": 1254484,\n      \"weight\": 3,\n      \"attrs\": {\n        \"origin\": \"address\",\n        \"geom_quadindex\": \"021300220011212011320\",\n        \"zoomlevel\": 10,\n        \"featureId\": \"1236304_0\",\n        \"lon\": 7.448810577392578,\n        \"detail\": \"denzlerstrasse 7 3005 bern 351 bern ch be\",\n        \"rank\": 7,\n        \"geom_st_box2d\": \"BOX(600774.942032431 198600.698677779,600774.942032431 198600.698677779)\",\n        \"lat\": 46.93849563598633,\n        \"num\": 7,\n        \"y\": 600774.9375,\n        \"x\": 198600.703125,\n        \"label\": \"Denzlerstrasse 7 <b>3005 Bern</b>\"\n      }\n    },\n    {\n      \"id\": 1254485,\n      \"weight\": 3,\n      \"attrs\": {\n        \"origin\": \"address\",\n        \"geom_quadindex\": \"021300220011212212233\",\n        \"zoomlevel\": 10,\n        \"featureId\": \"1236305_0\",\n        \"lon\": 7.448753833770752,\n        \"detail\": \"denzlerstrasse 8 3005 bern 351 bern ch be\",\n        \"rank\": 7,\n        \"geom_st_box2d\": \"BOX(600770.63426276 198581.782933174,600770.63426276 198581.782933174)\",\n        \"lat\": 46.938323974609375,\n        \"num\": 8,\n        \"y\": 600770.625,\n        \"x\": 198581.78125,\n        \"label\": \"Denzlerstrasse 8 <b>3005 Bern</b>\"\n      }\n    },\n    {\n      \"id\": 1254786,\n      \"weight\": 3,\n      \"attrs\": {\n        \"origin\": \"address\",\n        \"geom_quadindex\": \"021300220011212312220\",\n        \"zoomlevel\": 10,\n        \"featureId\": \"1236306_0\",\n        \"lon\": 7.448930740356445,\n        \"detail\": \"denzlerstrasse 10 3005 bern 351 bern ch be\",\n        \"rank\": 7,\n        \"geom_st_box2d\": \"BOX(600784.074452992 198582.196891842,600784.074452992 198582.196891842)\",\n        \"lat\": 46.93832778930664,\n        \"num\": 10,\n        \"y\": 600784.0625,\n        \"x\": 198582.203125,\n        \"label\": \"Denzlerstrasse 10 <b>3005 Bern</b>\"\n      }\n    },\n    {\n      \"id\": 1254787,\n      \"weight\": 3,\n      \"attrs\": {\n        \"origin\": \"address\",\n        \"geom_quadindex\": \"021300220011213202321\",\n        \"zoomlevel\": 10,\n        \"featureId\": \"1236307_0\",\n        \"lon\": 7.449053764343262,\n        \"detail\": \"denzlerstrasse 12 3005 bern 351 bern ch be\",\n        \"rank\": 7,\n        \"geom_st_box2d\": \"BOX(600793.469586389 198582.337865761,600793.469586389 198582.337865761)\",\n        \"lat\": 46.938331604003906,\n        \"num\": 12,\n        \"y\": 600793.5,\n        \"x\": 198582.34375,\n        \"label\": \"Denzlerstrasse 12 <b>3005 Bern</b>\"\n      }\n    }\n  ]\n}\n"
     ],
     "output_type": "stream"
    }
   ],
   "source": [
    "print(json.dumps(response.json(), indent=2))\n"
   ],
   "metadata": {
    "collapsed": false,
    "pycharm": {
     "name": "#%%\n",
     "is_executing": false
    }
   }
  }
 ],
 "metadata": {
  "language_info": {
   "codemirror_mode": {
    "name": "ipython",
    "version": 2
   },
   "file_extension": ".py",
   "mimetype": "text/x-python",
   "name": "python",
   "nbconvert_exporter": "python",
   "pygments_lexer": "ipython2",
   "version": "2.7.6"
  },
  "kernelspec": {
   "name": "python3",
   "language": "python",
   "display_name": "Python 3"
  },
  "pycharm": {
   "stem_cell": {
    "cell_type": "raw",
    "source": [],
    "metadata": {
     "collapsed": false
    }
   }
  }
 },
 "nbformat": 4,
 "nbformat_minor": 0
}