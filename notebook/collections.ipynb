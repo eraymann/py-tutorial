{
 "cells": [
  {
   "cell_type": "markdown",
   "source": [
    "# Collections\n",
    "Collections sind Sammlungen (Listen, Mengen, etc.) von Variablen."
   ],
   "metadata": {
    "collapsed": false
   }
  },
  {
   "cell_type": "markdown",
   "source": [
    "## Listen\n",
    "Listen werden mit eckigen Klammern gekennzeichnet und können beliebig viele Variablen\n",
    "von beliebigen Datentypen enthalten.\n",
    "Auch Verschachtelungen sind möglich."
   ],
   "metadata": {
    "collapsed": false
   }
  },
  {
   "cell_type": "code",
   "execution_count": 21,
   "outputs": [],
   "source": [
    "chars_list = [\"g\", \"r\", \"m\", \"a\", \"b\", \"n\"]\n",
    "nums_list = [1, 5, 7, 3, 9]\n",
    "mixed_list = [\"w\", 5, True, -3.6, \"X\"]\n",
    "nested_list = [1, \"k\", 4, [\"a\", 5]]"
   ],
   "metadata": {
    "collapsed": false,
    "pycharm": {
     "name": "#%%\n",
     "is_executing": false
    }
   }
  },
  {
   "cell_type": "markdown",
   "source": [
    "### Sortieren\n",
    "Sortieren ist nur möglich, wenn alle Elemente in der Liste vom gleichen Datentyp sind."
   ],
   "metadata": {
    "collapsed": false
   }
  },
  {
   "cell_type": "code",
   "execution_count": 22,
   "outputs": [
    {
     "name": "stdout",
     "text": [
      "['A', 'B', 'C', 'D']\n"
     ],
     "output_type": "stream"
    }
   ],
   "source": [
    "liste = [\"C\", \"B\", \"A\", \"D\"]\n",
    "print(sorted(liste))"
   ],
   "metadata": {
    "collapsed": false,
    "pycharm": {
     "name": "#%%\n",
     "is_executing": false
    }
   }
  },
  {
   "cell_type": "markdown",
   "source": [
    "Gemischte Listen können nicht sortiert werden."
   ],
   "metadata": {
    "collapsed": false
   }
  },
  {
   "cell_type": "code",
   "execution_count": 23,
   "outputs": [
    {
     "name": "stdout",
     "text": [
      "'<' not supported between instances of 'int' and 'str'\n"
     ],
     "output_type": "stream"
    }
   ],
   "source": [
    "mixed = [\"w\", 5, True, -3.6, \"X\"]\n",
    "\n",
    "try:\n",
    "    print(sorted(mixed))\n",
    "except Exception as e:\n",
    "    print(e)"
   ],
   "metadata": {
    "collapsed": false,
    "pycharm": {
     "name": "#%%\n",
     "is_executing": false
    }
   }
  },
  {
   "cell_type": "markdown",
   "source": [
    "### Elemente aus einer Liste auslesen\n",
    "Es gibt verschiedene Möglichkeiten, einzelne oder mehrere Elemente (Sub-Listen) aus einer Liste auszulesen."
   ],
   "metadata": {
    "collapsed": false
   }
  },
  {
   "cell_type": "code",
   "execution_count": 24,
   "outputs": [],
   "source": [
    "liste = [\"A\", \"B\", \"C\", \"D\", \"E\", \"F\"]"
   ],
   "metadata": {
    "collapsed": false,
    "pycharm": {
     "name": "#%%\n",
     "is_executing": false
    }
   }
  },
  {
   "cell_type": "markdown",
   "source": [
    "Ansprechen über Index. Das erste Element hat Index 0!"
   ],
   "metadata": {
    "collapsed": false
   }
  },
  {
   "cell_type": "code",
   "execution_count": 25,
   "outputs": [
    {
     "name": "stdout",
     "text": [
      "A\nC\n"
     ],
     "output_type": "stream"
    }
   ],
   "source": [
    "print(liste[0]) \n",
    "print(liste[2]) \n"
   ],
   "metadata": {
    "collapsed": false,
    "pycharm": {
     "name": "#%%\n",
     "is_executing": false
    }
   }
  },
  {
   "cell_type": "markdown",
   "source": [
    "Sollen Elemente am Ende der Liste ausgelesen werden, kann ein negativer Index helfen.\n",
    "Das letzte Element hat Index -1."
   ],
   "metadata": {
    "collapsed": false
   }
  },
  {
   "cell_type": "code",
   "execution_count": 26,
   "outputs": [
    {
     "name": "stdout",
     "text": [
      "F\nD\n"
     ],
     "output_type": "stream"
    }
   ],
   "source": [
    "print(liste[-1])\n",
    "print(liste[-3])\n"
   ],
   "metadata": {
    "collapsed": false,
    "pycharm": {
     "name": "#%%\n",
     "is_executing": false
    }
   }
  },
  {
   "cell_type": "markdown",
   "source": [
    "Sublisten extrahieren über Startindex (inkl.) und Endindex (exkl.), mit Doppelpunkt getrennt."
   ],
   "metadata": {
    "collapsed": false
   }
  },
  {
   "cell_type": "code",
   "execution_count": 27,
   "outputs": [
    {
     "name": "stdout",
     "text": [
      "['C', 'D', 'E']\n['D', 'E', 'F']\n['A', 'B', 'C', 'D']\n"
     ],
     "output_type": "stream"
    }
   ],
   "source": [
    "print(liste[2:5])\n",
    "print(liste[3:])\n",
    "print(liste[:4])"
   ],
   "metadata": {
    "collapsed": false,
    "pycharm": {
     "name": "#%%\n",
     "is_executing": false
    }
   }
  },
  {
   "cell_type": "markdown",
   "source": [
    "### Listen kombinieren, Elemente hinzufügen und entfernen\n",
    "Listen können mit __+__ kombiniert werden"
   ],
   "metadata": {
    "collapsed": false
   }
  },
  {
   "cell_type": "code",
   "execution_count": 28,
   "outputs": [
    {
     "name": "stdout",
     "text": [
      "['C', 'B', 'A', 'D']\n"
     ],
     "output_type": "stream"
    }
   ],
   "source": [
    "liste_a = [\"C\", \"B\"]\n",
    "liste_b = [\"A\", \"D\"]\n",
    "liste = liste_a + liste_b\n",
    "print(liste)"
   ],
   "metadata": {
    "collapsed": false,
    "pycharm": {
     "name": "#%%\n",
     "is_executing": false
    }
   }
  },
  {
   "cell_type": "markdown",
   "source": [
    "Mit `append` werden neue Elemente zur Liste hinzugefügt"
   ],
   "metadata": {
    "collapsed": false
   }
  },
  {
   "cell_type": "code",
   "execution_count": 29,
   "outputs": [
    {
     "name": "stdout",
     "text": [
      "['C', 'B', 'A', 'D', 'E', 'F']\n"
     ],
     "output_type": "stream"
    }
   ],
   "source": [
    "liste.append(\"E\")\n",
    "liste.append(\"F\")\n",
    "print(liste)"
   ],
   "metadata": {
    "collapsed": false,
    "pycharm": {
     "name": "#%%\n",
     "is_executing": false
    }
   }
  },
  {
   "cell_type": "markdown",
   "source": [
    "Elemente werden mit `pop` über ihren _Index_ aus einer Liste entfernt."
   ],
   "metadata": {
    "collapsed": false
   }
  },
  {
   "cell_type": "code",
   "execution_count": 30,
   "outputs": [
    {
     "name": "stdout",
     "text": [
      "C\n['A', 'B', 'D']\n"
     ],
     "output_type": "stream"
    }
   ],
   "source": [
    "liste = [\"A\", \"B\", \"C\", \"D\"]\n",
    "deleted = liste.pop(2)\n",
    "print(deleted)\n",
    "print(liste)"
   ],
   "metadata": {
    "collapsed": false,
    "pycharm": {
     "name": "#%% \n",
     "is_executing": false
    }
   }
  },
  {
   "cell_type": "markdown",
   "source": [
    "Bekannte _Werte_ werden mit `remove` aus einer Liste löschen.\n",
    "Es wird nur das erste gefundene Element gelöscht, auch wenn es mehrere Elemente mit demselben Wert gibt."
   ],
   "metadata": {
    "collapsed": false
   }
  },
  {
   "cell_type": "code",
   "execution_count": 31,
   "outputs": [
    {
     "name": "stdout",
     "text": [
      "[1, 2, 3]\n"
     ],
     "output_type": "stream"
    }
   ],
   "source": [
    "liste = [1, 2, 3, 3]\n",
    "liste.remove(3)\n",
    "print(liste)"
   ],
   "metadata": {
    "collapsed": false,
    "pycharm": {
     "name": "#%% \n",
     "is_executing": false
    }
   }
  },
  {
   "cell_type": "markdown",
   "source": [
    "## Sets\n",
    "Sets sind Listen ohne Duplikate"
   ],
   "metadata": {
    "collapsed": false
   }
  },
  {
   "cell_type": "markdown",
   "source": [
    "### Set neu erstellen"
   ],
   "metadata": {
    "collapsed": false
   }
  },
  {
   "cell_type": "code",
   "execution_count": 32,
   "outputs": [
    {
     "name": "stdout",
     "text": [
      "{4, 5}\n"
     ],
     "output_type": "stream"
    }
   ],
   "source": [
    "myset = set()\n",
    "myset.add(4)\n",
    "myset.add(4)\n",
    "myset.add(5)\n",
    "print(myset)"
   ],
   "metadata": {
    "collapsed": false,
    "pycharm": {
     "name": "#%%\n",
     "is_executing": false
    }
   }
  },
  {
   "cell_type": "markdown",
   "source": [
    "### Set aus einer Liste erzeugen"
   ],
   "metadata": {
    "collapsed": false
   }
  },
  {
   "cell_type": "code",
   "execution_count": 33,
   "outputs": [
    {
     "name": "stdout",
     "text": [
      "[1, 2, 3, 4, 5, 6]\n"
     ],
     "output_type": "stream"
    }
   ],
   "source": [
    "liste = [6, 4, 1, 2, 4, 6, 1, 3, 3, 3, 4, 5, 6, 6, 6]\n",
    "myset = set(liste)\n",
    "print(sorted(myset))"
   ],
   "metadata": {
    "collapsed": false,
    "pycharm": {
     "name": "#%%\n",
     "is_executing": false
    }
   }
  },
  {
   "cell_type": "markdown",
   "source": [
    "## Tupel\n",
    "\n",
    "Tupel sind Listen mit unveränderlicher Anzahl Elementen. Praktisch z.B. für Koordinaten\n",
    " "
   ],
   "metadata": {
    "collapsed": false
   }
  },
  {
   "cell_type": "code",
   "execution_count": 34,
   "outputs": [],
   "source": [
    "bern2d = (600000, 200000)\n",
    "bern3d = (600000, 200000, 500)"
   ],
   "metadata": {
    "collapsed": false,
    "pycharm": {
     "name": "#%%\n",
     "is_executing": false
    }
   }
  },
  {
   "cell_type": "markdown",
   "source": [
    "\n",
    "## Dictionaries\n",
    "Dictionaries sind Key-Value-Paare und werden mit geschwungenen Klammern definiert.\n"
   ],
   "metadata": {
    "collapsed": false
   }
  },
  {
   "cell_type": "code",
   "execution_count": 35,
   "outputs": [],
   "source": [
    "mydict = {\"key1\": \"wert1\",\n",
    "          \"key2\": \"wert2\",\n",
    "          \"key3\": 1234}"
   ],
   "metadata": {
    "collapsed": false,
    "pycharm": {
     "name": "#%%\n",
     "is_executing": false
    }
   }
  },
  {
   "cell_type": "markdown",
   "source": [
    "Die Werte werden über den Key in eckigen Klammern abgefragt\n",
    " "
   ],
   "metadata": {
    "collapsed": false
   }
  },
  {
   "cell_type": "code",
   "execution_count": 36,
   "outputs": [
    {
     "name": "stdout",
     "text": [
      "1234\n"
     ],
     "output_type": "stream"
    }
   ],
   "source": [
    "wert3 = mydict[\"key3\"]\n",
    "print(wert3)\n"
   ],
   "metadata": {
    "collapsed": false,
    "pycharm": {
     "name": "#%%\n",
     "is_executing": false
    }
   }
  },
  {
   "cell_type": "markdown",
   "source": [
    "\n",
    "Ebenfalls über den Key in eckigen Klammern werden neue Paare eingetragen"
   ],
   "metadata": {
    "collapsed": false
   }
  },
  {
   "cell_type": "code",
   "execution_count": 37,
   "outputs": [
    {
     "name": "stdout",
     "text": [
      "{'key1': 'wert1', 'key2': 'wert2', 'key3': 1234, 'key4': 'wert4'}\n"
     ],
     "output_type": "stream"
    }
   ],
   "source": [
    "mydict[\"key4\"] = \"wert4\"\n",
    "print(mydict)\n"
   ],
   "metadata": {
    "collapsed": false,
    "pycharm": {
     "name": "#%%\n",
     "is_executing": false
    }
   }
  },
  {
   "cell_type": "markdown",
   "source": [
    "\n",
    "Alle Keys, Werte oder Kombinationen können als Listen ausgegeben werden"
   ],
   "metadata": {
    "collapsed": false
   }
  },
  {
   "cell_type": "code",
   "execution_count": 38,
   "outputs": [
    {
     "name": "stdout",
     "text": [
      "dict_keys(['key1', 'key2', 'key3', 'key4'])\ndict_values(['wert1', 'wert2', 1234, 'wert4'])\ndict_items([('key1', 'wert1'), ('key2', 'wert2'), ('key3', 1234), ('key4', 'wert4')])\n"
     ],
     "output_type": "stream"
    }
   ],
   "source": [
    "print(mydict.keys())\n",
    "print(mydict.values())\n",
    "print(mydict.items())\n"
   ],
   "metadata": {
    "collapsed": false,
    "pycharm": {
     "name": "#%%\n",
     "is_executing": false
    }
   }
  }
 ],
 "metadata": {
  "language_info": {
   "codemirror_mode": {
    "name": "ipython",
    "version": 2
   },
   "file_extension": ".py",
   "mimetype": "text/x-python",
   "name": "python",
   "nbconvert_exporter": "python",
   "pygments_lexer": "ipython2",
   "version": "2.7.6"
  },
  "kernelspec": {
   "name": "python3",
   "language": "python",
   "display_name": "Python 3"
  },
  "pycharm": {
   "stem_cell": {
    "cell_type": "raw",
    "source": [],
    "metadata": {
     "collapsed": false
    }
   }
  }
 },
 "nbformat": 4,
 "nbformat_minor": 0
}