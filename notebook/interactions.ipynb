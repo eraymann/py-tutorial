{
 "cells": [
  {
   "cell_type": "markdown",
   "source": [
    "# Interaktionen\n",
    "Der Anwender kann mit einem Programm interagieren, wenn es dafür ausgelegt ist.\n",
    "Entweder werden alle vom Programm benötigten Informationen vorgängig als Parameter übergeben,\n",
    "oder das Programm fragt den Anwender zur Laufzeit.\n",
    "\n",
    "## Parameter"
   ],
   "metadata": {
    "collapsed": false,
    "pycharm": {
     "name": "#%% md\n"
    }
   }
  },
  {
   "cell_type": "code",
   "source": [
    "import sys\n",
    "parameter = sys.argv[1]\n",
    "print(\"Du hast {} dem Skript als Parameter übergeben\".format(parameter))\n",
    "# ACHTUNG: Dateien mit Endung py müssen mit der Standardanwendung python.exe verknüpft sein"
   ],
   "metadata": {
    "collapsed": false,
    "pycharm": {
     "name": "#%%\n",
     "is_executing": false
    }
   },
   "execution_count": 6,
   "outputs": [
    {
     "name": "stdout",
     "text": [
      "Du hast -f dem Skript als Parameter übergeben\n"
     ],
     "output_type": "stream"
    }
   ]
  },
  {
   "cell_type": "markdown",
   "source": [
    "## Benutzereingaben\n"
   ],
   "metadata": {
    "collapsed": false
   }
  },
  {
   "cell_type": "code",
   "execution_count": 7,
   "outputs": [
    {
     "name": "stdout",
     "text": [
      "Du hast hallo welt eingegeben\n"
     ],
     "output_type": "stream"
    }
   ],
   "source": [
    "eingabe = input(\"Bitte irgendetwas eintippen: \")\n",
    "print(\"Du hast {} eingegeben\".format(eingabe))\n",
    "\n",
    "# Benutzereingaben sind immer vom Typ String\n",
    "\n"
   ],
   "metadata": {
    "collapsed": false,
    "pycharm": {
     "name": "#%%\n",
     "is_executing": false
    }
   }
  }
 ],
 "metadata": {
  "language_info": {
   "codemirror_mode": {
    "name": "ipython",
    "version": 2
   },
   "file_extension": ".py",
   "mimetype": "text/x-python",
   "name": "python",
   "nbconvert_exporter": "python",
   "pygments_lexer": "ipython2",
   "version": "2.7.6"
  },
  "kernelspec": {
   "name": "python3",
   "language": "python",
   "display_name": "Python 3"
  },
  "pycharm": {
   "stem_cell": {
    "cell_type": "raw",
    "source": [],
    "metadata": {
     "collapsed": false
    }
   }
  }
 },
 "nbformat": 4,
 "nbformat_minor": 0
}