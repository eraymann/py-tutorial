{
 "cells": [
  {
   "cell_type": "markdown",
   "source": [
    "# Operatoren\n",
    "Mit Operatoren können verschiedene Variablen miteinander verknüpft und/oder verrechnet werden.\n",
    "<br>\n",
    "Je nach Datentyp können andere Operatoren eingesetzt werden. "
   ],
   "metadata": {
    "collapsed": false
   }
  },
  {
   "cell_type": "markdown",
   "source": [
    "## Mathematische Grundoperationen\n",
    "Als Rangfolge gilt wie üblich Punkt vor Strich.\n",
    "Dies kann durch Klammern übersteuert werden."
   ],
   "metadata": {
    "collapsed": false
   }
  },
  {
   "cell_type": "code",
   "execution_count": 10,
   "outputs": [
    {
     "name": "stdout",
     "text": [
      "9.166666666666666\n"
     ],
     "output_type": "stream"
    }
   ],
   "source": [
    "print(2 * 3 + 4 - (5 / 6))"
   ],
   "metadata": {
    "collapsed": false,
    "pycharm": {
     "name": "#%%\n",
     "is_executing": false
    }
   }
  },
  {
   "cell_type": "code",
   "execution_count": 11,
   "outputs": [
    {
     "name": "stdout",
     "text": [
      "13.166666666666666\n"
     ],
     "output_type": "stream"
    }
   ],
   "source": [
    "print(2 * (3 + 4) - 5 / 6)"
   ],
   "metadata": {
    "collapsed": false,
    "pycharm": {
     "name": "#%%\n",
     "is_executing": false
    }
   }
  },
  {
   "cell_type": "markdown",
   "source": [
    "## Divisionen\n",
    "Die Division bietet ein paar Spezialfälle."
   ],
   "metadata": {
    "collapsed": false
   }
  },
  {
   "cell_type": "markdown",
   "source": [
    "### Dezimaldivision\n",
    "Nachkommastellen bleiben erhalten"
   ],
   "metadata": {
    "collapsed": false
   }
  },
  {
   "cell_type": "code",
   "execution_count": 1,
   "outputs": [
    {
     "name": "stdout",
     "text": [
      "2.3333333333333335\n"
     ],
     "output_type": "stream"
    }
   ],
   "source": [
    "print(7 / 3)"
   ],
   "metadata": {
    "collapsed": false,
    "pycharm": {
     "name": "#%%\n",
     "is_executing": false
    }
   }
  },
  {
   "cell_type": "markdown",
   "source": [
    "### Ganzzahldivision\n",
    "Nachkommastellen werden weggeputzt"
   ],
   "metadata": {
    "collapsed": false
   }
  },
  {
   "cell_type": "code",
   "execution_count": 13,
   "outputs": [
    {
     "name": "stdout",
     "text": [
      "1\n"
     ],
     "output_type": "stream"
    }
   ],
   "source": [
    "print(5 // 3)"
   ],
   "metadata": {
    "collapsed": false,
    "pycharm": {
     "name": "#%%\n",
     "is_executing": false
    }
   }
  },
  {
   "cell_type": "markdown",
   "source": [
    "### Modulo\n",
    "Der Modulo-Operator liefert den Rest einer Division"
   ],
   "metadata": {
    "collapsed": false
   }
  },
  {
   "cell_type": "code",
   "execution_count": 14,
   "outputs": [
    {
     "name": "stdout",
     "text": [
      "2\n"
     ],
     "output_type": "stream"
    }
   ],
   "source": [
    "print(5 % 3)"
   ],
   "metadata": {
    "collapsed": false,
    "pycharm": {
     "name": "#%%\n",
     "is_executing": false
    }
   }
  },
  {
   "cell_type": "markdown",
   "source": [
    "### Division durch 0\n",
    "Wie in der Mathematik ist geteilt duch Null auch in Python nicht zulässig.\n",
    "<br>\n",
    "Mehr Beispiele zum Exception Handling weiter unten."
   ],
   "metadata": {
    "collapsed": false
   }
  },
  {
   "cell_type": "code",
   "execution_count": 15,
   "outputs": [
    {
     "name": "stdout",
     "text": [
      "division by zero",
      "\n"
     ],
     "output_type": "stream"
    }
   ],
   "source": [
    "try:\n",
    "    print(5 / 0)\n",
    "except Exception as e:\n",
    "    print(e)"
   ],
   "metadata": {
    "collapsed": false,
    "pycharm": {
     "name": "#%%\n",
     "is_executing": false
    }
   }
  },
  {
   "cell_type": "markdown",
   "source": [
    "## Textoperatoren\n",
    "Mit Textoperatoren können Strings verändert werden."
   ],
   "metadata": {
    "collapsed": false
   }
  },
  {
   "cell_type": "markdown",
   "source": [
    "### Concatenation\n",
    "Mittels `+` werden zwei oder mehrere Textbausteine aneinandergereiht."
   ],
   "metadata": {
    "collapsed": false
   }
  },
  {
   "cell_type": "code",
   "execution_count": 16,
   "outputs": [
    {
     "name": "stdout",
     "text": [
      "text1text2text3\n"
     ],
     "output_type": "stream"
    }
   ],
   "source": [
    "print(\"text1\" + \"text2\" + \"text3\")"
   ],
   "metadata": {
    "collapsed": false,
    "pycharm": {
     "name": "#%%\n",
     "is_executing": false
    }
   }
  },
  {
   "cell_type": "markdown",
   "source": [
    "## Typumwandlung (Casting)\n",
    "Operationen funktionieren nur für Variablen des gleichen Datentyps.\n",
    "Falls unterschiedliche Datentypen miteinander verknüpft werden sollen,\n",
    "müssen sie zuerst vereinheitlicht werden.\n",
    "Mehr Beispiele zum Exception Handling weiter unten."
   ],
   "metadata": {
    "collapsed": false
   }
  },
  {
   "cell_type": "code",
   "execution_count": 17,
   "outputs": [
    {
     "name": "stdout",
     "text": [
      "can only concatenate str (not \"int\") to str\n"
     ],
     "output_type": "stream"
    }
   ],
   "source": [
    "text = \"1234\"\n",
    "zahl = 1234\n",
    "\n",
    "try:\n",
    "    print(text + zahl)\n",
    "except Exception as e:\n",
    "    print(e)\n"
   ],
   "metadata": {
    "collapsed": false,
    "pycharm": {
     "name": "#%%\n",
     "is_executing": false
    }
   }
  },
  {
   "cell_type": "markdown",
   "source": [
    "Mit Casting:"
   ],
   "metadata": {
    "collapsed": false
   }
  },
  {
   "cell_type": "code",
   "execution_count": 18,
   "outputs": [
    {
     "name": "stdout",
     "text": [
      "12341234\n"
     ],
     "output_type": "stream"
    }
   ],
   "source": [
    "print(text + str(zahl))"
   ],
   "metadata": {
    "collapsed": false,
    "pycharm": {
     "name": "#%%\n",
     "is_executing": false
    }
   }
  }
 ],
 "metadata": {
  "language_info": {
   "codemirror_mode": {
    "name": "ipython",
    "version": 2
   },
   "file_extension": ".py",
   "mimetype": "text/x-python",
   "name": "python",
   "nbconvert_exporter": "python",
   "pygments_lexer": "ipython2",
   "version": "2.7.6"
  },
  "kernelspec": {
   "name": "python3",
   "language": "python",
   "display_name": "Python 3"
  },
  "pycharm": {
   "stem_cell": {
    "cell_type": "raw",
    "source": [],
    "metadata": {
     "collapsed": false
    }
   }
  }
 },
 "nbformat": 4,
 "nbformat_minor": 0
}